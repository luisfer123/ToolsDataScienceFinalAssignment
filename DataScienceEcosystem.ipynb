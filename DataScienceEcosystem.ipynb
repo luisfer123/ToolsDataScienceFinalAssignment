{
 "cells": [
  {
   "cell_type": "markdown",
   "id": "aa255143-d5bd-4c11-ad98-297bdca228e3",
   "metadata": {},
   "source": [
    "# Data Science Tools and Ecosystem"
   ]
  },
  {
   "cell_type": "markdown",
   "id": "1e3a7027-db16-4321-86ae-260e2858e4c4",
   "metadata": {},
   "source": [
    "<p>In this notebook, Data Science Tools and Ecosystem are summarized.</p>"
   ]
  },
  {
   "cell_type": "markdown",
   "id": "5d2c66bf-2476-456c-b28c-e7d9085037aa",
   "metadata": {},
   "source": [
    "<p>Objectives:</p>\n",
    "\n",
    "- List popular languages for Data Science.\n",
    "- List popular libraries for Data Science.\n",
    "- List open source Data Science Tools."
   ]
  },
  {
   "cell_type": "markdown",
   "id": "cc3d42d4-6210-4b82-9865-9531d6d1b981",
   "metadata": {},
   "source": [
    "<p>Some of the popular languages that Data Scientists use are:<p/>\n",
    "\n",
    "1. Python\n",
    "2. R\n",
    "3. Java"
   ]
  },
  {
   "cell_type": "markdown",
   "id": "3a8274a2-c9a4-44e5-b5da-111a30bdcf76",
   "metadata": {},
   "source": [
    "<p>Some of the commonly used libraries used by Data Scientists include:</p>\n",
    "\n",
    "1. Numpy\n",
    "2. Pandas\n",
    "3. Scipy"
   ]
  },
  {
   "cell_type": "markdown",
   "id": "90e358b6-b7da-43cb-9ae0-c09fa2234fa4",
   "metadata": {},
   "source": [
    "| Data Science Tools |\n",
    "----------------------\n",
    "| JupyterLab |\n",
    "| Spyder |\n",
    "| Visual Studio |"
   ]
  },
  {
   "cell_type": "markdown",
   "id": "a479def2-0bff-43c0-a07d-dfaf02fa26cb",
   "metadata": {},
   "source": [
    "<h3>Below are a few examples of evaluating arithmetic expressions in Python</h3>"
   ]
  },
  {
   "cell_type": "code",
   "execution_count": 2,
   "id": "978a54c8-288f-4e6e-a527-b49e72a0ba9a",
   "metadata": {},
   "outputs": [
    {
     "data": {
      "text/plain": [
       "17"
      ]
     },
     "execution_count": 2,
     "metadata": {},
     "output_type": "execute_result"
    }
   ],
   "source": [
    "# This a simple arithmetic expression to mutiply then add integers\n",
    "(3*4)+5"
   ]
  },
  {
   "cell_type": "code",
   "execution_count": 3,
   "id": "99b0b096-074b-4507-b408-c4cd8b1354a1",
   "metadata": {},
   "outputs": [
    {
     "data": {
      "text/plain": [
       "3.3333333333333335"
      ]
     },
     "execution_count": 3,
     "metadata": {},
     "output_type": "execute_result"
    }
   ],
   "source": [
    "# his will convert 200 minutes to hours by diving by 60\n",
    "200/60"
   ]
  },
  {
   "cell_type": "markdown",
   "id": "2674e9ca-9683-463d-b74f-0119f9a1a1e5",
   "metadata": {},
   "source": [
    "<h2>Author</h2>\n",
    "<p>Luis Fernando Martinez O.</p>"
   ]
  },
  {
   "cell_type": "code",
   "execution_count": null,
   "id": "4fd4c241-e599-489a-a0e5-3d9d57e4dbac",
   "metadata": {},
   "outputs": [],
   "source": []
  }
 ],
 "metadata": {
  "kernelspec": {
   "display_name": "Python 3 (ipykernel)",
   "language": "python",
   "name": "python3"
  },
  "language_info": {
   "codemirror_mode": {
    "name": "ipython",
    "version": 3
   },
   "file_extension": ".py",
   "mimetype": "text/x-python",
   "name": "python",
   "nbconvert_exporter": "python",
   "pygments_lexer": "ipython3",
   "version": "3.11.9"
  }
 },
 "nbformat": 4,
 "nbformat_minor": 5
}
